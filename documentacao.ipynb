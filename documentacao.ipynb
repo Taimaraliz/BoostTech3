{
  "nbformat": 4,
  "nbformat_minor": 0,
  "metadata": {
    "colab": {
      "provenance": [],
      "authorship_tag": "ABX9TyPoDHt0AIegVsNgOoNEmret",
      "include_colab_link": true
    },
    "kernelspec": {
      "name": "python3",
      "display_name": "Python 3"
    },
    "language_info": {
      "name": "python"
    }
  },
  "cells": [
    {
      "cell_type": "markdown",
      "metadata": {
        "id": "view-in-github",
        "colab_type": "text"
      },
      "source": [
        "<a href=\"https://colab.research.google.com/github/Taimaraliz/BoostTech3/blob/main/documentacao.ipynb\" target=\"_parent\"><img src=\"https://colab.research.google.com/assets/colab-badge.svg\" alt=\"Open In Colab\"/></a>"
      ]
    },
    {
      "cell_type": "markdown",
      "source": [
        "**Documentação final**"
      ],
      "metadata": {
        "id": "bvsN7i1RCVm9"
      }
    },
    {
      "cell_type": "markdown",
      "source": [
        "🚀 **Machine Learning Aplicado: HR Analytics Challenge**"
      ],
      "metadata": {
        "id": "a2NfckOz1aH2"
      }
    },
    {
      "cell_type": "markdown",
      "source": [
        "📘** Descrição do Projeto**\n",
        "\n",
        "Este projeto é parte do trabalho final da disciplina Machine Learning Aplicado, com foco na aplicação prática de técnicas de ciência de dados para resolução de um problema real de negócios no contexto de Recursos Humanos.\n",
        "\n",
        "Fomos desafiados a construir um pipeline preditivo completo capaz de identificar colaboradores com alto risco de deixar a empresa (attrition), auxiliando o time de RH na tomada de decisões preventivas."
      ],
      "metadata": {
        "id": "TiB3JzUz1aFX"
      }
    },
    {
      "cell_type": "markdown",
      "source": [
        "🏢 **Contexto do Problema**\n",
        "\n",
        "A TechCorp Brasil, uma das maiores empresas de tecnologia do país, com mais de 50.000 funcionários, está enfrentando uma crise de alta rotatividade de colaboradores. Em apenas um ano, a taxa de attrition aumentou 35%, gerando um impacto financeiro de aproximadamente R$ 45 milhões.\n",
        "\n",
        "Cada desligamento representa:\n",
        "\n",
        "Custos diretos de demissão e substituição (cerca de 1,5x o salário anual);\n",
        "Perda de conhecimento institucional;\n",
        "Queda na produtividade e moral da equipe;\n",
        "Atrasos em projetos críticos.\n",
        "A empresa contratou um Cientista de Dados para desenvolver um sistema preditivo que identifique colaboradores com alto risco de saída, possibilitando ações estratégicas por parte do RH."
      ],
      "metadata": {
        "id": "O7MAxCDC1aDD"
      }
    },
    {
      "cell_type": "markdown",
      "source": [
        "📊 **Geração do Dataset Sintético**\n",
        "\n",
        "**Objetivo**\n",
        "\n",
        "A função gerar_dataframe(qtd=50000, seed=42) foi desenvolvida com o objetivo de simular um conjunto de dados \"realista\" de funcionários de uma empresa, permitindo a construção e avaliação de modelos de machine learning para predição de rotatividade (churn). Este dataset simula aspectos demográficos, profissionais e comportamentais dos colaboradores."
      ],
      "metadata": {
        "id": "68rjYuoO1aAG"
      }
    },
    {
      "cell_type": "markdown",
      "source": [
        "**Estrutura da Função**\n",
        "\n",
        "🔧 **Parâmetros**\n",
        "\n",
        "Quantidade: Número de funcionários a serem gerados (default = 50.000).\n",
        "\n",
        "seed: Valor da semente aleatória para garantir reprodutibilidade dos dados.\n",
        "\n",
        "🔁 **Aleatoriedade Controlada**\n",
        "\n",
        "np.random.seed(seed) e random.seed(seed) são utilizados para garantir que a geração dos dados seja determinística e repetível, gerando sempre os mesmos resultados para uma mesma seed."
      ],
      "metadata": {
        "id": "8m6NnSa01Z9W"
      }
    },
    {
      "cell_type": "markdown",
      "source": [
        "🎯 **Variáveis Simuladas**\n",
        "\n",
        "A função contempla atributos divididos em:\n",
        "\n",
        "1. Demográficos\n",
        "\n",
        "Gênero, Estado Civil, Idade,Cor/Raça, Nacionalidade / Naturalidade, Tipo de moradia,Estado/UF, Pessoa com Deficiência (PCD), Filhos\n",
        "\n",
        "2. Acadêmico e Profissional\n",
        "\n",
        "Área de Formação (com variações propositalmente inseridas, como \"DS\", \"Cientista de Dados\"), Departamento, Cargo, Anos na Empresa, Promoções,Faixa salarial, Treinamentos, Avaliação de Desempenho, Aumento salarial, Nível de opção de ação.\n",
        "\n",
        "3. Satisfação e Comportamento\n",
        "\n",
        "Satisfação com ambiente, trabalho, benefícios e relacionamento, Equilíbrio vida-trabalho, Pretensão de mudar de emprego, Viagem a trabalho, Histórico de afastamentos e atestados, Motivo da saída, Envolvimento no trabalho.\n",
        "\n",
        "4. Variáveis-Alvo\n",
        "\n",
        "Saiu da Empresa?: Target binária simulada com probabilidade controlada (16% de saída).\n",
        "Atributos relacionados ao futuro do funcionário: \"Pretende mudar\", \"Você se vê na empresa\", etc.\n",
        "\n"
      ],
      "metadata": {
        "id": "zNpgkFkM1Z6W"
      }
    },
    {
      "cell_type": "markdown",
      "source": [
        "🛠️ **Tratamento de Dados Intencionais**\n",
        "\n",
        "Para refletir a realidade dos dados corporativos, foram simulados problemas comuns de qualidade de dados:\n",
        "Valores nulos inseridos propositalmente em colunas estratégicas como salário e anos na empresa (~5%).\n",
        "Valores negativos em colunas numéricas (~1%) para testar validação e limpeza de dados.\n",
        "Outliers salariais adicionados em uma pequena fração dos dados (~0.1%).\n",
        "Erros de codificação e inconsistência textual (ex: \"Dev\", \"desenvolvedor\", etc.) para testar normalização.\n",
        "UFs inválidas (ex: \"XX\") foram adicionadas para testar validação geográfica.\n",
        "Inconsistência de tempo de empresa x idade (ex: jovem com mais tempo de empresa do que idade real) — incluído para verificação de integridade."
      ],
      "metadata": {
        "id": "vVmMZ8wU1Ztd"
      }
    },
    {
      "cell_type": "markdown",
      "source": [
        "🧹 **Tratamento de Dados: Imputação e Outliers**\n",
        "\n",
        "O tratamento adequado dos dados é essencial para garantir a integridade das análises e a performance dos modelos de Machine Learning. Nesta etapa, foram abordadas imputações de valores ausentes, correção de outliers e verificações estatísticas.\n",
        "\n",
        "📌 **Imputação de Dados Ausentes**\n",
        "\n",
        "🔢 Colunas Numéricas\n",
        "\n",
        "Para as colunas com valores numéricos ausentes, optou-se por usar medidas de tendência central, que são menos sensíveis a outliers:\n",
        "\n",
        "```\n",
        "df_funcionarios['Salário Mensal'].fillna(df_funcionarios['Salário Mensal'].median(), inplace=True)\n",
        "df_funcionarios['Anos na Empresa'].fillna(df_funcionarios['Anos na Empresa'].median(), inplace=True)\n",
        "\n",
        "```\n",
        "Colunas Categóricas\n",
        "Para atributos categóricos com valores ausentes, foi utilizada a moda, ou seja, o valor mais frequente, para preservar a distribuição natural dos dados categóricos.\n",
        "\n"
      ],
      "metadata": {
        "id": "KOqGu-1d5iPp"
      }
    },
    {
      "cell_type": "markdown",
      "source": [
        "📈 **Tratamento de Outliers em Salário**\n",
        "\n",
        "Limitação por Intervalo Interquartil (IQR)\n",
        "\n",
        "O método IQR (Interquartile Range) foi utilizado para limitar valores extremos;\n",
        "Valores fora dos limites foram substituídos pelos próprios limites, garantindo que a distribuição se mantenha realista;\n",
        "Estatísticas descritivas pós-tratamento.\n",
        "\n",
        "Remoção de Outliers Severos por Desvio Padrão\n",
        "\n",
        "Para garantir que valores extremos não mascarassem tendências gerais, também foi aplicado o método de 3 desvios padrão.\n",
        "\n",
        "```\n",
        "media = df_funcionarios['Salário Mensal'].mean()\n",
        "desvio = df_funcionarios['Salário Mensal'].std()\n",
        "limite_superior = media + 3 * desvio\n",
        "df_funcionarios = df_funcionarios[df_funcionarios['Salário Mensal'] <= limite_superior]\n",
        "\n",
        "```\n",
        "\n"
      ],
      "metadata": {
        "id": "YAKIZtS25jE3"
      }
    },
    {
      "cell_type": "markdown",
      "source": [
        "🛠️ **Engenharia de Atributos (Feature Engineering)**\n",
        "\n",
        "A engenharia de atributos é uma etapa essencial na preparação dos dados para análise e modelagem preditiva. Nesta seção, foram aplicadas várias transformações para criar variáveis mais interpretáveis e úteis, além de garantir a qualidade dos dados numéricos.\n",
        "\n",
        "Criação de Variável Categórica: Idade Categoria\n",
        "Para facilitar a análise por faixas etárias, a coluna Idade foi categorizada com pd.cut(), criando a nova coluna Idade Categoria.\n",
        "\n",
        "A variável Saiu da Empresa?, que indica se o funcionário desligou-se da empresa, foi transformada com LabelEncoder().\n",
        "\n",
        "📉 **Visualização da Distribuição por Faixa Etária**\n",
        "\n",
        "Para avaliar o equilíbrio dos dados por categoria de idade, foi criado o gráfico. O gráfico mostra o número de funcionários por faixa etária, o que ajuda a identificar possíveis desbalanceamentos.\n",
        "\n",
        "🧹 **Imputação de Valores Faltantes com Mediana**\n",
        "\n",
        "Para evitar distorções provocadas por dados ausentes, foi realizada a imputação de valores nulos em colunas numéricas com a mediana, por serem robustas a outliers.Onde o código inclui validações para evitar erros caso as colunas estejam ausentes ou com todos os valores nulos.\n",
        "\n",
        "**Análise de Outliers com Boxplots**\n",
        "\n",
        "Por fim, foram plotados boxplots das variáveis numéricas para identificar a presença de outliers. O gráfico também lida com a ausência de dados válidos, mostrando uma mensagem caso não haja dados suficientes para plotar."
      ],
      "metadata": {
        "id": "yAYAh4ql5jBH"
      }
    },
    {
      "cell_type": "markdown",
      "source": [
        "🔍 **Análise Exploratória de Dados (EDA)**\n",
        "\n",
        "Foram realizadas análises visuais para investigar a variável-alvo Saiu da Empresa? e suas relações com outros atributos importantes, como salário, gênero e departamento. Isso é fundamental para identificar padrões, tendências e possíveis variáveis relevantes para predição de saída.\n",
        "\n",
        "**Distribuição da Variável Alvo – Saiu da Empresa?**\n",
        "\n",
        "O gráfico mostra a distribuição dos funcionários que saíram ou permaneceram na empresa. É útil para identificar se há desbalanceamento da variável-alvo (problema comum em modelos de classificação).\n",
        "Um desbalanceamento significativo pode exigir técnicas de balanceamento como SMOTE, undersampling ou pesos personalizados.\n",
        "\n",
        "💰 **Relação entre Salário Mensal e Saída da Empresa**\n",
        "\n",
        "O boxplot compara a distribuição dos salários mensais entre funcionários que saíram ou permaneceram na empresa. Com ele é possível:\n",
        "Identificar tendências salariais relacionadas à evasão;\n",
        "Detectar outliers em cada grupo;\n",
        "Avaliar se há indícios de que salários mais baixos estão associados à saída da empresa.\n",
        "Caso haja uma diferença clara, o salário pode ser uma variável preditora importante no modelo.\n",
        "\n",
        "🚻 **Análise de Saída da Empresa por Gênero**\n",
        "\n",
        "```\n",
        "sns.countplot(data=df_funcionarios, x='Gênero_plot', hue='Saiu da Empresa?')\n",
        "```\n",
        "Neste gráfico, é avaliado se a taxa de saída difere entre gêneros. O uso do parâmetro hue='Saiu da Empresa?' permite visualizar a proporção de evasão dentro de cada grupo de gênero.\n",
        "Esta análise ajuda a identificar possíveis disparidades ou desigualdades que devem ser investigadas ou monitoradas pela área de RH.\n",
        "\n",
        "**Saída da Empresa por Departamento (Gráfico Interativo - Plotly)**\n",
        "\n",
        "O histograma interativo exibe a quantidade de funcionários que saíram ou permaneceram em cada departamento.\n",
        "Com ele é possível:\n",
        "Verificar departamentos com alta rotatividade;\n",
        "Avaliar áreas com maior retenção de talentos;\n",
        "Interagir com o gráfico para analisar detalhes, valores e distribuições específicas.\n",
        "Pode indicar áreas que necessitam de intervenções estratégicas para retenção."
      ],
      "metadata": {
        "id": "fPcACXdX5i9k"
      }
    },
    {
      "cell_type": "markdown",
      "source": [
        "**Machine Learning**\n",
        "\n",
        "Como etapa final, criamos uma pipeline completo de Machine Learning aplicado a dados de RH, com o objetivo de prever a probabilidade de um funcionário sair da empresa (problema de classificação binária).\n",
        "**Modelagem Preditiva – Churn de Funcionários**\n",
        "Carregamento e Geração de Dados\n",
        "\n",
        "**Pré-processamento de Dados**\n",
        "\n",
        "Separação entre colunas numéricas e categóricas\n",
        "Permite aplicar transformações específicas para cada tipo de variável.\n",
        "\n",
        "Tratamento de valores nulos\n",
        "Numéricas: preenchidas com a mediana;\n",
        "\n",
        "Categóricas: preenchidas com a moda (valor mais frequente).\n",
        "\n",
        "Correção de valores negativos\n",
        "Transforma qualquer valor negativo em positivo, assumindo que são erros de digitação ou geração.\n",
        "\n",
        "Codificação da variável-alvo\n",
        "Transforma a coluna 'Saiu da Empresa?' em 0 = Não e 1 = Sim.\n",
        "Preparação de variáveis independentes (X) e dependente (y)\n",
        "One-Hot Encoding para variáveis categóricas\n",
        "Transforma categorias em colunas binárias para alimentar o modelo.\n",
        "\n",
        "**Divisão de Treino/Teste com Estratificação**\n",
        "\n",
        "```\n",
        "train_test_split(... stratify=y ...)\n",
        "```\n",
        "Com a estratificação tentamos garanti que a proporção de evasões seja mantida nas amostras de treino e teste.\n",
        "\n",
        "SMOTE: Balanceamento de classes via oversampling sintético;\n",
        "\n",
        "StandardScaler: Normalização das variáveis numéricas;\n",
        "\n",
        "RandomForestClassifier: Algoritmo de classificação robusto e interpretável.\n"
      ],
      "metadata": {
        "id": "8verJ8eM5i63"
      }
    },
    {
      "cell_type": "markdown",
      "source": [
        "**Treinamento do Modelo**\n",
        "\n",
        "O modelo aprende os padrões dos dados de treino após aplicar balanceamento e escalonamento\n",
        "\n",
        "```\n",
        "pipeline.fit(X_train, y_train)\n",
        "```\n",
        "**Avaliação do Modelo**\n",
        "\n",
        "São exibidas as métricas:\n",
        "\n",
        "Precision: Quantos dos preditos como evasão realmente saíram;\n",
        "Recall: Quantos dos que saíram foram corretamente identificados;\n",
        "F1-score: Harmonia entre precision e recall;\n",
        "AUC-ROC: Capacidade do modelo em distinguir entre as classes.\n",
        "\n",
        "**Interpretabilidade**\n",
        "\n",
        "SHAP (SHapley Additive exPlanations) explica a importância de cada variável para a previsão de saída do funcionário:\n",
        "Visualização da contribuição de cada feature;\n",
        "Identificação de quais variáveis mais influenciam a evasão.\n",
        "\n",
        "**Visualização: Probabilidade Média de Saída por Departamento**\n",
        "\n",
        "Foi gerado um gráfico interativo em Plotly que mostra:\n",
        "Quais departamentos têm maior risco médio de saída;\n",
        "Possível identificação de setores problemáticos para estratégias de retenção.\n",
        "\n",
        " **Resultado Final do pipeline**\n",
        "O pipeline apresentado abrange todas as etapas críticas, tais como:\n",
        "Geração e limpeza de dados;\n",
        "Engenharia de atributos e codificação;\n",
        "Balanceamento de classes e escalonamento;\n",
        "Treinamento e avaliação;\n",
        "Explicação do modelo;\n",
        "Visualização de insights para o RH."
      ],
      "metadata": {
        "id": "MjLOysOI5i3v"
      }
    },
    {
      "cell_type": "markdown",
      "source": [
        "🔚 **Conclusão**\n",
        "\n",
        "Neste projeto, procuramos usar técnicas de ciência de dados para prever quais funcionários podem sair da empresa. Criamos um conjunto de dados sintético, tratamos problemas como valores nulos e negativos, e aplicamos um modelo de Machine Learning com Random Forest, usando também o SMOTE para equilibrar os dados.\n",
        "\n",
        "Os resultados mostraram que o modelo teve bom desempenho, e com a ajuda do SHAP conseguimos entender melhor os fatores que influenciam a saída dos funcionários. Também visualizamos quais departamentos têm maior risco de perda de talentos, o que pode ajudar na tomada de decisões do RH."
      ],
      "metadata": {
        "id": "y01SPt5-5i0t"
      }
    }
  ]
}